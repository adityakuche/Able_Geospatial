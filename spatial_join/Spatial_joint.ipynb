{
 "cells": [
  {
   "cell_type": "code",
   "execution_count": 1,
   "metadata": {},
   "outputs": [],
   "source": [
    "import geopandas as gpd\n",
    "import pandas as pd\n",
    "from shapely.geometry import point\n",
    "%matplotlib inline"
   ]
  },
  {
   "cell_type": "code",
   "execution_count": 2,
   "metadata": {},
   "outputs": [],
   "source": [
    "sta= gpd.read_file(\"point.shp\")\n",
    "pat= gpd.read_file(\"point_1.shp\")"
   ]
  },
  {
   "cell_type": "code",
   "execution_count": 4,
   "metadata": {},
   "outputs": [
    {
     "data": {
      "text/html": [
       "<div>\n",
       "<style scoped>\n",
       "    .dataframe tbody tr th:only-of-type {\n",
       "        vertical-align: middle;\n",
       "    }\n",
       "\n",
       "    .dataframe tbody tr th {\n",
       "        vertical-align: top;\n",
       "    }\n",
       "\n",
       "    .dataframe thead th {\n",
       "        text-align: right;\n",
       "    }\n",
       "</style>\n",
       "<table border=\"1\" class=\"dataframe\">\n",
       "  <thead>\n",
       "    <tr style=\"text-align: right;\">\n",
       "      <th></th>\n",
       "      <th>id</th>\n",
       "      <th>X</th>\n",
       "      <th>geometry</th>\n",
       "    </tr>\n",
       "  </thead>\n",
       "  <tbody>\n",
       "    <tr>\n",
       "      <th>0</th>\n",
       "      <td>None</td>\n",
       "      <td>-477325.909405</td>\n",
       "      <td>POINT (-477325.909 3187985.360)</td>\n",
       "    </tr>\n",
       "    <tr>\n",
       "      <th>1</th>\n",
       "      <td>None</td>\n",
       "      <td>-477383.036543</td>\n",
       "      <td>POINT (-477383.037 3187935.671)</td>\n",
       "    </tr>\n",
       "    <tr>\n",
       "      <th>2</th>\n",
       "      <td>None</td>\n",
       "      <td>-477251.959466</td>\n",
       "      <td>POINT (-477251.959 3187926.897)</td>\n",
       "    </tr>\n",
       "    <tr>\n",
       "      <th>3</th>\n",
       "      <td>None</td>\n",
       "      <td>-477314.022063</td>\n",
       "      <td>POINT (-477314.022 3187883.250)</td>\n",
       "    </tr>\n",
       "    <tr>\n",
       "      <th>4</th>\n",
       "      <td>None</td>\n",
       "      <td>-477308.593280</td>\n",
       "      <td>POINT (-477308.593 3187805.079)</td>\n",
       "    </tr>\n",
       "  </tbody>\n",
       "</table>\n",
       "</div>"
      ],
      "text/plain": [
       "     id              X                         geometry\n",
       "0  None -477325.909405  POINT (-477325.909 3187985.360)\n",
       "1  None -477383.036543  POINT (-477383.037 3187935.671)\n",
       "2  None -477251.959466  POINT (-477251.959 3187926.897)\n",
       "3  None -477314.022063  POINT (-477314.022 3187883.250)\n",
       "4  None -477308.593280  POINT (-477308.593 3187805.079)"
      ]
     },
     "execution_count": 4,
     "metadata": {},
     "output_type": "execute_result"
    }
   ],
   "source": [
    "sta.head()"
   ]
  },
  {
   "cell_type": "code",
   "execution_count": 5,
   "metadata": {},
   "outputs": [
    {
     "data": {
      "text/html": [
       "<div>\n",
       "<style scoped>\n",
       "    .dataframe tbody tr th:only-of-type {\n",
       "        vertical-align: middle;\n",
       "    }\n",
       "\n",
       "    .dataframe tbody tr th {\n",
       "        vertical-align: top;\n",
       "    }\n",
       "\n",
       "    .dataframe thead th {\n",
       "        text-align: right;\n",
       "    }\n",
       "</style>\n",
       "<table border=\"1\" class=\"dataframe\">\n",
       "  <thead>\n",
       "    <tr style=\"text-align: right;\">\n",
       "      <th></th>\n",
       "      <th>id</th>\n",
       "      <th>y</th>\n",
       "      <th>geometry</th>\n",
       "    </tr>\n",
       "  </thead>\n",
       "  <tbody>\n",
       "    <tr>\n",
       "      <th>0</th>\n",
       "      <td>None</td>\n",
       "      <td>3.187985e+06</td>\n",
       "      <td>POINT (-477325.909 3187985.360)</td>\n",
       "    </tr>\n",
       "    <tr>\n",
       "      <th>1</th>\n",
       "      <td>None</td>\n",
       "      <td>3.187936e+06</td>\n",
       "      <td>POINT (-477383.037 3187935.671)</td>\n",
       "    </tr>\n",
       "    <tr>\n",
       "      <th>2</th>\n",
       "      <td>None</td>\n",
       "      <td>3.187927e+06</td>\n",
       "      <td>POINT (-477251.959 3187926.897)</td>\n",
       "    </tr>\n",
       "    <tr>\n",
       "      <th>3</th>\n",
       "      <td>None</td>\n",
       "      <td>3.187883e+06</td>\n",
       "      <td>POINT (-477314.022 3187883.250)</td>\n",
       "    </tr>\n",
       "    <tr>\n",
       "      <th>4</th>\n",
       "      <td>None</td>\n",
       "      <td>3.187805e+06</td>\n",
       "      <td>POINT (-477308.593 3187805.079)</td>\n",
       "    </tr>\n",
       "  </tbody>\n",
       "</table>\n",
       "</div>"
      ],
      "text/plain": [
       "     id             y                         geometry\n",
       "0  None  3.187985e+06  POINT (-477325.909 3187985.360)\n",
       "1  None  3.187936e+06  POINT (-477383.037 3187935.671)\n",
       "2  None  3.187927e+06  POINT (-477251.959 3187926.897)\n",
       "3  None  3.187883e+06  POINT (-477314.022 3187883.250)\n",
       "4  None  3.187805e+06  POINT (-477308.593 3187805.079)"
      ]
     },
     "execution_count": 5,
     "metadata": {},
     "output_type": "execute_result"
    }
   ],
   "source": [
    "pat.head()"
   ]
  },
  {
   "cell_type": "code",
   "execution_count": 6,
   "metadata": {},
   "outputs": [
    {
     "data": {
      "text/html": [
       "<div>\n",
       "<style scoped>\n",
       "    .dataframe tbody tr th:only-of-type {\n",
       "        vertical-align: middle;\n",
       "    }\n",
       "\n",
       "    .dataframe tbody tr th {\n",
       "        vertical-align: top;\n",
       "    }\n",
       "\n",
       "    .dataframe thead th {\n",
       "        text-align: right;\n",
       "    }\n",
       "</style>\n",
       "<table border=\"1\" class=\"dataframe\">\n",
       "  <thead>\n",
       "    <tr style=\"text-align: right;\">\n",
       "      <th></th>\n",
       "      <th>id_left</th>\n",
       "      <th>y</th>\n",
       "      <th>geometry</th>\n",
       "      <th>index_right</th>\n",
       "      <th>id_right</th>\n",
       "      <th>X</th>\n",
       "    </tr>\n",
       "  </thead>\n",
       "  <tbody>\n",
       "    <tr>\n",
       "      <th>0</th>\n",
       "      <td>None</td>\n",
       "      <td>3.187985e+06</td>\n",
       "      <td>POINT (-477325.909 3187985.360)</td>\n",
       "      <td>0</td>\n",
       "      <td>None</td>\n",
       "      <td>-477325.909405</td>\n",
       "    </tr>\n",
       "    <tr>\n",
       "      <th>1</th>\n",
       "      <td>None</td>\n",
       "      <td>3.187936e+06</td>\n",
       "      <td>POINT (-477383.037 3187935.671)</td>\n",
       "      <td>1</td>\n",
       "      <td>None</td>\n",
       "      <td>-477383.036543</td>\n",
       "    </tr>\n",
       "    <tr>\n",
       "      <th>2</th>\n",
       "      <td>None</td>\n",
       "      <td>3.187927e+06</td>\n",
       "      <td>POINT (-477251.959 3187926.897)</td>\n",
       "      <td>2</td>\n",
       "      <td>None</td>\n",
       "      <td>-477251.959466</td>\n",
       "    </tr>\n",
       "    <tr>\n",
       "      <th>3</th>\n",
       "      <td>None</td>\n",
       "      <td>3.187883e+06</td>\n",
       "      <td>POINT (-477314.022 3187883.250)</td>\n",
       "      <td>3</td>\n",
       "      <td>None</td>\n",
       "      <td>-477314.022063</td>\n",
       "    </tr>\n",
       "    <tr>\n",
       "      <th>4</th>\n",
       "      <td>None</td>\n",
       "      <td>3.187805e+06</td>\n",
       "      <td>POINT (-477308.593 3187805.079)</td>\n",
       "      <td>4</td>\n",
       "      <td>None</td>\n",
       "      <td>-477308.593280</td>\n",
       "    </tr>\n",
       "  </tbody>\n",
       "</table>\n",
       "</div>"
      ],
      "text/plain": [
       "  id_left             y                         geometry  index_right  \\\n",
       "0    None  3.187985e+06  POINT (-477325.909 3187985.360)            0   \n",
       "1    None  3.187936e+06  POINT (-477383.037 3187935.671)            1   \n",
       "2    None  3.187927e+06  POINT (-477251.959 3187926.897)            2   \n",
       "3    None  3.187883e+06  POINT (-477314.022 3187883.250)            3   \n",
       "4    None  3.187805e+06  POINT (-477308.593 3187805.079)            4   \n",
       "\n",
       "  id_right              X  \n",
       "0     None -477325.909405  \n",
       "1     None -477383.036543  \n",
       "2     None -477251.959466  \n",
       "3     None -477314.022063  \n",
       "4     None -477308.593280  "
      ]
     },
     "execution_count": 6,
     "metadata": {},
     "output_type": "execute_result"
    }
   ],
   "source": [
    "pat_sta =gpd.sjoin(pat,sta,how='inner',op='within')\n",
    "pat_sta.head()"
   ]
  },
  {
   "cell_type": "code",
   "execution_count": null,
   "metadata": {},
   "outputs": [],
   "source": [
    "#To check the crs\n",
    "#sta.crs\n",
    "#to make the crs system of both the shapefile\n",
    "#sta.to_crs(pat.crs,implace=True)"
   ]
  },
  {
   "cell_type": "code",
   "execution_count": 17,
   "metadata": {},
   "outputs": [
    {
     "data": {
      "text/plain": [
       "(28, 3)"
      ]
     },
     "execution_count": 17,
     "metadata": {},
     "output_type": "execute_result"
    }
   ],
   "source": [
    "pat.shape #to denote the shape"
   ]
  },
  {
   "cell_type": "code",
   "execution_count": 19,
   "metadata": {},
   "outputs": [
    {
     "data": {
      "text/plain": [
       "3.187830e+06    1\n",
       "3.187938e+06    1\n",
       "3.187845e+06    1\n",
       "3.187886e+06    1\n",
       "3.187853e+06    1\n",
       "3.187813e+06    1\n",
       "3.187799e+06    1\n",
       "3.187921e+06    1\n",
       "3.187798e+06    1\n",
       "3.187985e+06    1\n",
       "3.187759e+06    1\n",
       "3.187751e+06    1\n",
       "3.187771e+06    1\n",
       "3.187805e+06    1\n",
       "3.187889e+06    1\n",
       "3.187939e+06    1\n",
       "3.187901e+06    1\n",
       "3.187893e+06    1\n",
       "3.187906e+06    1\n",
       "3.187795e+06    1\n",
       "3.187927e+06    1\n",
       "3.187921e+06    1\n",
       "3.187890e+06    1\n",
       "3.187782e+06    1\n",
       "3.187801e+06    1\n",
       "3.187936e+06    1\n",
       "3.187883e+06    1\n",
       "3.187785e+06    1\n",
       "Name: y, dtype: int64"
      ]
     },
     "execution_count": 19,
     "metadata": {},
     "output_type": "execute_result"
    }
   ],
   "source": [
    "pat.y.value_counts() #if any value to be count in the dataset"
   ]
  },
  {
   "cell_type": "code",
   "execution_count": null,
   "metadata": {},
   "outputs": [],
   "source": []
  }
 ],
 "metadata": {
  "kernelspec": {
   "display_name": "Python 3",
   "language": "python",
   "name": "python3"
  },
  "language_info": {
   "codemirror_mode": {
    "name": "ipython",
    "version": 3
   },
   "file_extension": ".py",
   "mimetype": "text/x-python",
   "name": "python",
   "nbconvert_exporter": "python",
   "pygments_lexer": "ipython3",
   "version": "3.8.5"
  }
 },
 "nbformat": 4,
 "nbformat_minor": 4
}
