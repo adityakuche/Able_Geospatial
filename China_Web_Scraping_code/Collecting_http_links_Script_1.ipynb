{
 "cells": [
  {
   "cell_type": "code",
   "execution_count": null,
   "id": "0d4d22c6-2553-496b-9e8b-e86ee1ef75c9",
   "metadata": {},
   "outputs": [],
   "source": [
    "from selenium import webdriver\n",
    "from selenium.webdriver.common.keys import Keys\n",
    "#from webdriver_manager.microsoft import EdgeChromiumDriverManager\n",
    "#from bs4 import BeautifulSoup\n",
    "from selenium.webdriver.common.by import By\n",
    "from selenium.webdriver.support.ui import WebDriverWait\n",
    "from selenium.webdriver.support import expected_conditions as EC\n",
    "from selenium.webdriver.common.action_chains import ActionChains\n",
    "from selenium.common.exceptions import TimeoutException\n",
    "\n",
    "import time\n",
    "import pandas as pd\n",
    "import re\n",
    "import csv"
   ]
  },
  {
   "cell_type": "code",
   "execution_count": null,
   "id": "e6ba752f-bc71-4677-9719-7155b59be275",
   "metadata": {},
   "outputs": [],
   "source": [
    "data_1=[]\n",
    "for j in regions:\n",
    "    index_regions= regions.index(j)\n",
    "    link = \"https://www.globalforestwatch.org/dashboards/country/CHN/\"+str(index_regions+1)+\"/?category=land-cover\"\n",
    "    print(link)\n",
    "    \n",
    "    driver = webdriver.Chrome()\n",
    "    driver.get(link)\n",
    "\n",
    "    wait = WebDriverWait(driver, 10)\n",
    "\n",
    "    try:\n",
    "        # Wait for the province dropdown (4th c-selector)\n",
    "        province_dropdown = wait.until(EC.presence_of_element_located((By.XPATH, \"(//div[contains(@class,'c-selector')])[4]\")))\n",
    "        print(\"Province dropdown is available.\")\n",
    "\n",
    "        province_dropdown = wait.until(EC.element_to_be_clickable((By.XPATH, \"(//div[contains(@class,'c-selector')])[4]\")))\n",
    "        province_dropdown.click()\n",
    "\n",
    "        menu = wait.until(EC.presence_of_element_located((By.CLASS_NAME, \"c-selector-menu\")))\n",
    "        items = menu.find_elements(By.CLASS_NAME, \"c-selector-item\")\n",
    "\n",
    "        # Extract text\n",
    "        province_list = [option.text.strip() for option in items if option.text.strip()]\n",
    "        print(province_list)\n",
    "\n",
    "        for k,p in zip(items, province_list):\n",
    "            index=items.index(k)\n",
    "            link_1=\"https://www.globalforestwatch.org/dashboards/country/CHN/\"+str(index_regions+1)+\"/\"+str(index+1)+\"/?category=land-cover\"\n",
    "            print(j,p,link_1)\n",
    "            data_1.append([j,p,link_1])\n",
    "            #break\n",
    "\n",
    "    except:\n",
    "        data_1.append([j,\"NA\",link])\n",
    "        print(\"Provin)ce dropdown is not available.\")\n",
    "\n",
    "    driver.quit()\n",
    "    #break\n",
    "    #if index_regions == 4:\n",
    "        #break\n",
    "\n",
    "with open(r\"C:\\Users\\I33238\\Downloads\\province_links2.csv\", mode=\"w\", newline='', encoding=\"utf-8\") as file:\n",
    "    writer = csv.writer(file)\n",
    "    writer.writerow([\"Regions\",\"provinces\", \"links\"])  # Header\n",
    "    writer.writerows(data_1)\n",
    "\n",
    "print(\"CSV file 'province_links.csv' saved successfully.\")"
   ]
  }
 ],
 "metadata": {
  "kernelspec": {
   "display_name": "Python 3 (ipykernel)",
   "language": "python",
   "name": "python3"
  },
  "language_info": {
   "codemirror_mode": {
    "name": "ipython",
    "version": 3
   },
   "file_extension": ".py",
   "mimetype": "text/x-python",
   "name": "python",
   "nbconvert_exporter": "python",
   "pygments_lexer": "ipython3",
   "version": "3.10.10"
  }
 },
 "nbformat": 4,
 "nbformat_minor": 5
}
