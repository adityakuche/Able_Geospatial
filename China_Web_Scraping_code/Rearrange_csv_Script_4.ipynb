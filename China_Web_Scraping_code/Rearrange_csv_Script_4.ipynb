{
 "cells": [
  {
   "cell_type": "code",
   "execution_count": null,
   "id": "f5e6a418-a7b0-411d-a95f-b1d726dafa9d",
   "metadata": {},
   "outputs": [],
   "source": [
    "import os\n",
    "import pandas as pd\n",
    "from collections import defaultdict\n",
    "\n",
    "# Set your folder path here\n",
    "folder_path = r\"C:\\Users\\I33238\\Downloads\\DN\\TreeLossFiresAnnual\" #chnage the folder where all the csv contains\n",
    "\n",
    "# Dictionary to hold region-wise DataFrames\n",
    "region_data = defaultdict(list)\n",
    "\n",
    "# Loop through all CSV files\n",
    "for file_name in os.listdir(folder_path):\n",
    "    if file_name.endswith(\".csv\"):\n",
    "        # Remove extension and split by underscore\n",
    "        parts = file_name.replace(\".csv\", \"\").split(\"_\")\n",
    "        \n",
    "        try:\n",
    "            region = parts[1]     # Province (e.g., Anhui)\n",
    "            province = parts[2]   # Prefecture (e.g., Anqing)\n",
    "        except IndexError:\n",
    "            print(f\"Skipping malformed filename: {file_name}\")\n",
    "            continue  # Skip files that don't match expected pattern\n",
    "\n",
    "        file_path = os.path.join(folder_path, file_name)\n",
    "        \n",
    "        try:\n",
    "            df = pd.read_csv(file_path)\n",
    "        except Exception as e:\n",
    "            print(f\"Error reading {file_name}: {e}\")\n",
    "            continue\n",
    "        df['adm1'] = region\n",
    "        df['adm2'] = province\n",
    "        # Rename adm1/adm2 if they exist\n",
    "        df.rename(columns={'adm1': 'Province', 'adm2': 'Prefecture'}, inplace=True)\n",
    "        region_data[region].append(df)\n",
    "\n",
    "# Create output folder for merged files\n",
    "output_folder = os.path.join(folder_path, \"merged\")\n",
    "os.makedirs(output_folder, exist_ok=True)\n",
    "\n",
    "# Merge and save CSVs per region\n",
    "for region, df_list in region_data.items():\n",
    "    merged_df = pd.concat(df_list, ignore_index=True)\n",
    "    output_file = os.path.join(output_folder, f\"China_{region}_TreeLossFiresAnnual_2025.csv\") #change the name accordingly\n",
    "    merged_df.to_csv(output_file, index=False)\n",
    "    print(f\"Merged file saved for region: {region} → {output_file}\")\n"
   ]
  }
 ],
 "metadata": {
  "kernelspec": {
   "display_name": "Python 3 (ipykernel)",
   "language": "python",
   "name": "python3"
  },
  "language_info": {
   "codemirror_mode": {
    "name": "ipython",
    "version": 3
   },
   "file_extension": ".py",
   "mimetype": "text/x-python",
   "name": "python",
   "nbconvert_exporter": "python",
   "pygments_lexer": "ipython3",
   "version": "3.10.10"
  }
 },
 "nbformat": 4,
 "nbformat_minor": 5
}
