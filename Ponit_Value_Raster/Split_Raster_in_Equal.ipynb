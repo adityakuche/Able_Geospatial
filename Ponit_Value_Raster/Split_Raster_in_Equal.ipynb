{
 "cells": [
  {
   "cell_type": "code",
   "execution_count": 1,
   "metadata": {},
   "outputs": [],
   "source": [
    "from osgeo import gdal"
   ]
  },
  {
   "cell_type": "code",
   "execution_count": 2,
   "metadata": {},
   "outputs": [],
   "source": [
    "dem = gdal.Open(\"ortho.tif\") #import file\n",
    "gt = dem.GetGeoTransform()"
   ]
  },
  {
   "cell_type": "code",
   "execution_count": 3,
   "metadata": {},
   "outputs": [],
   "source": [
    "# get coordinates of upper left corner\n",
    "xmin = gt[0]\n",
    "ymax = gt[3]\n",
    "res = gt[1]"
   ]
  },
  {
   "cell_type": "code",
   "execution_count": 4,
   "metadata": {},
   "outputs": [],
   "source": [
    "# determine total length of raster\n",
    "xlen = res * dem.RasterXSize\n",
    "ylen = res * dem.RasterYSize"
   ]
  },
  {
   "cell_type": "code",
   "execution_count": 5,
   "metadata": {},
   "outputs": [],
   "source": [
    "# number of tiles in x and y direction\n",
    "xdiv = 2\n",
    "ydiv = 2"
   ]
  },
  {
   "cell_type": "code",
   "execution_count": 6,
   "metadata": {},
   "outputs": [],
   "source": [
    "# size of a single tile\n",
    "xsize = xlen/xdiv\n",
    "ysize = ylen/ydiv"
   ]
  },
  {
   "cell_type": "code",
   "execution_count": 7,
   "metadata": {},
   "outputs": [],
   "source": [
    "# create lists of x and y coordinates\n",
    "xsteps = [xmin + xsize * i for i in range(xdiv+1)]\n",
    "ysteps = [ymax - ysize * i for i in range(ydiv+1)]"
   ]
  },
  {
   "cell_type": "code",
   "execution_count": 8,
   "metadata": {},
   "outputs": [
    {
     "name": "stdout",
     "output_type": "stream",
     "text": [
      "xmin: 700029.1599253458\n",
      "xmax: 700360.1599253458\n",
      "ymin: 3148852.0632036594\n",
      "ymax: 3149148.1882036594\n",
      "\n",
      "\n",
      "xmin: 700029.1599253458\n",
      "xmax: 700360.1599253458\n",
      "ymin: 3148555.9382036594\n",
      "ymax: 3148852.0632036594\n",
      "\n",
      "\n",
      "xmin: 700360.1599253458\n",
      "xmax: 700691.1599253458\n",
      "ymin: 3148852.0632036594\n",
      "ymax: 3149148.1882036594\n",
      "\n",
      "\n",
      "xmin: 700360.1599253458\n",
      "xmax: 700691.1599253458\n",
      "ymin: 3148555.9382036594\n",
      "ymax: 3148852.0632036594\n",
      "\n",
      "\n"
     ]
    }
   ],
   "source": [
    "# loop over min and max x and y coordinates\n",
    "for i in range(xdiv):\n",
    "    for j in range(ydiv):\n",
    "        xmin = xsteps[i]\n",
    "        xmax = xsteps[i+1]\n",
    "        ymax = ysteps[j]\n",
    "        ymin = ysteps[j+1]\n",
    "        \n",
    "        print(\"xmin: \"+str(xmin))\n",
    "        print(\"xmax: \"+str(xmax))\n",
    "        print(\"ymin: \"+str(ymin))\n",
    "        print(\"ymax: \"+str(ymax))\n",
    "        print(\"\\n\")"
   ]
  },
  {
   "cell_type": "code",
   "execution_count": 9,
   "metadata": {},
   "outputs": [
    {
     "data": {
      "text/plain": [
       "<osgeo.gdal.Dataset; proxy of <Swig Object of type 'GDALDatasetShadow *' at 0x000001A8C735B0F0> >"
      ]
     },
     "execution_count": 9,
     "metadata": {},
     "output_type": "execute_result"
    }
   ],
   "source": [
    "# use gdal warp\n",
    "gdal.Warp(\"dem\"+str(i)+str(j)+\".tif\", dem, outputBounds = (xmin, ymin, xmax, ymax), dstNodata = -9999)\n",
    "# or gdal translate to subset the input raster\n",
    "gdal.Translate(\"dem_translate\"+str(i)+str(j)+\".tif\", dem, projWin = (xmin, ymax, xmax, ymin), xRes = res, yRes = -res)"
   ]
  },
  {
   "cell_type": "code",
   "execution_count": 10,
   "metadata": {},
   "outputs": [],
   "source": [
    "# close the open dataset!!!\n",
    "dem = None"
   ]
  },
  {
   "cell_type": "code",
   "execution_count": null,
   "metadata": {},
   "outputs": [],
   "source": []
  }
 ],
 "metadata": {
  "kernelspec": {
   "display_name": "Python 3",
   "language": "python",
   "name": "python3"
  },
  "language_info": {
   "codemirror_mode": {
    "name": "ipython",
    "version": 3
   },
   "file_extension": ".py",
   "mimetype": "text/x-python",
   "name": "python",
   "nbconvert_exporter": "python",
   "pygments_lexer": "ipython3",
   "version": "3.8.5"
  }
 },
 "nbformat": 4,
 "nbformat_minor": 4
}
